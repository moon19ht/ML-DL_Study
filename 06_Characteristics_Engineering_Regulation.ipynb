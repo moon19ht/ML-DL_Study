{
 "cells": [
  {
   "cell_type": "markdown",
   "id": "09f09bda",
   "metadata": {},
   "source": [
    "# 특성 공학과 규제\n",
    "## 데이터 준비"
   ]
  },
  {
   "cell_type": "code",
   "execution_count": 1,
   "id": "e14839ab",
   "metadata": {},
   "outputs": [],
   "source": [
    "import pandas as pd  # pandas 라이브러리 불러오기"
   ]
  },
  {
   "cell_type": "code",
   "execution_count": 2,
   "id": "5acfddb3",
   "metadata": {},
   "outputs": [
    {
     "name": "stdout",
     "output_type": "stream",
     "text": [
      "[[ 8.4   2.11  1.41]\n",
      " [13.7   3.53  2.  ]\n",
      " [15.    3.82  2.43]\n",
      " [16.2   4.59  2.63]\n",
      " [17.4   4.59  2.94]\n",
      " [18.    5.22  3.32]\n",
      " [18.7   5.2   3.12]\n",
      " [19.    5.64  3.05]\n",
      " [19.6   5.14  3.04]\n",
      " [20.    5.08  2.77]\n",
      " [21.    5.69  3.56]\n",
      " [21.    5.92  3.31]\n",
      " [21.    5.69  3.67]\n",
      " [21.3   6.38  3.53]\n",
      " [22.    6.11  3.41]\n",
      " [22.    5.64  3.52]\n",
      " [22.    6.11  3.52]\n",
      " [22.    5.88  3.52]\n",
      " [22.    5.52  4.  ]\n",
      " [22.5   5.86  3.62]\n",
      " [22.5   6.79  3.62]\n",
      " [22.7   5.95  3.63]\n",
      " [23.    5.22  3.63]\n",
      " [23.5   6.28  3.72]\n",
      " [24.    7.29  3.72]\n",
      " [24.    6.38  3.82]\n",
      " [24.6   6.73  4.17]\n",
      " [25.    6.44  3.68]\n",
      " [25.6   6.56  4.24]\n",
      " [26.5   7.17  4.14]\n",
      " [27.3   8.32  5.14]\n",
      " [27.5   7.17  4.34]\n",
      " [27.5   7.05  4.34]\n",
      " [27.5   7.28  4.57]\n",
      " [28.    7.82  4.2 ]\n",
      " [28.7   7.59  4.64]\n",
      " [30.    7.62  4.77]\n",
      " [32.8  10.03  6.02]\n",
      " [34.5  10.26  6.39]\n",
      " [35.   11.49  7.8 ]\n",
      " [36.5  10.88  6.86]\n",
      " [36.   10.61  6.74]\n",
      " [37.   10.84  6.26]\n",
      " [37.   10.57  6.37]\n",
      " [39.   11.14  7.49]\n",
      " [39.   11.14  6.  ]\n",
      " [39.   12.43  7.35]\n",
      " [40.   11.93  7.11]\n",
      " [40.   11.73  7.22]\n",
      " [40.   12.38  7.46]\n",
      " [40.   11.14  6.63]\n",
      " [42.   12.8   6.87]\n",
      " [43.   11.93  7.28]\n",
      " [43.   12.51  7.42]\n",
      " [43.5  12.6   8.14]\n",
      " [44.   12.49  7.6 ]]\n"
     ]
    }
   ],
   "source": [
    "df = pd.read_csv('https://raw.githubusercontent.com/rickiepark/hg-mldl/master/perch_full.csv')  # 데이터 읽기\n",
    "perch_full = df.to_numpy()  # 데이터프레임을 넘파이 배열로 변환\n",
    "print(perch_full)  # 전체 데이터 출력"
   ]
  },
  {
   "cell_type": "code",
   "execution_count": 3,
   "id": "3e2991fc",
   "metadata": {},
   "outputs": [],
   "source": [
    "import numpy as np  # numpy 불러오기\n",
    "\n",
    "perch_weight = np.array(\n",
    "    [5.9, 32.0, 40.0, 51.5, 70.0, 100.0, 78.0, 80.0, 85.0, 85.0,\n",
    "     110.0, 115.0, 125.0, 130.0, 120.0, 120.0, 130.0, 135.0, 110.0,\n",
    "     130.0, 150.0, 145.0, 150.0, 170.0, 225.0, 145.0, 188.0, 180.0,\n",
    "     197.0, 218.0, 300.0, 260.0, 265.0, 250.0, 250.0, 300.0, 320.0,\n",
    "     514.0, 556.0, 840.0, 685.0, 700.0, 700.0, 690.0, 900.0, 650.0,\n",
    "     820.0, 850.0, 900.0, 1015.0, 820.0, 1100.0, 1000.0, 1100.0,\n",
    "     1000.0, 1000.0]  # 농어 무게 데이터\n",
    "     )"
   ]
  },
  {
   "cell_type": "code",
   "execution_count": 4,
   "id": "bb8f5c37",
   "metadata": {},
   "outputs": [],
   "source": [
    "from sklearn.model_selection import train_test_split  # 데이터 분할 함수 불러오기\n",
    "train_input, test_input, train_target, test_target = train_test_split(\n",
    "    perch_full, perch_weight, random_state=42)  # 입력, 타깃 데이터 분할 (랜덤 시드 고정)"
   ]
  },
  {
   "cell_type": "markdown",
   "id": "e73e5fc9",
   "metadata": {},
   "source": [
    "## 사이킷런의 변환기"
   ]
  },
  {
   "cell_type": "code",
   "execution_count": 5,
   "id": "061c96c1",
   "metadata": {},
   "outputs": [],
   "source": [
    "from sklearn.preprocessing import PolynomialFeatures  # 다항 특성 변환기 불러오기"
   ]
  },
  {
   "cell_type": "code",
   "execution_count": 6,
   "id": "5111d798",
   "metadata": {},
   "outputs": [
    {
     "name": "stdout",
     "output_type": "stream",
     "text": [
      "[[1. 2. 3. 4. 6. 9.]]\n"
     ]
    }
   ],
   "source": [
    "poly = PolynomialFeatures()  # 다항 특성 변환기 객체 생성\n",
    "poly.fit([[2, 3]])  # 예시 데이터로 변환기 학습\n",
    "print(poly.transform([[2, 3]]))  # 변환된 다항 특성 출력"
   ]
  },
  {
   "cell_type": "code",
   "execution_count": 7,
   "id": "1d1a8829",
   "metadata": {},
   "outputs": [
    {
     "name": "stdout",
     "output_type": "stream",
     "text": [
      "[[2. 3. 4. 6. 9.]]\n"
     ]
    }
   ],
   "source": [
    "poly = PolynomialFeatures(include_bias=False)  # 절편 항 제외\n",
    "poly.fit([[2, 3]])  # 예시 데이터로 변환기 학습\n",
    "print(poly.transform([[2, 3]]))  # 변환된 다항 특성 출력 (절편 제외)"
   ]
  },
  {
   "cell_type": "code",
   "execution_count": 8,
   "id": "f386c648",
   "metadata": {},
   "outputs": [],
   "source": [
    "poly = PolynomialFeatures(include_bias=False)  # 절편 항 제외\n",
    "\n",
    "poly.fit(train_input)  # 훈련 데이터로 변환기 학습\n",
    "train_poly = poly.transform(train_input)  # 훈련 데이터 변환"
   ]
  },
  {
   "cell_type": "code",
   "execution_count": 9,
   "id": "e74d62f1",
   "metadata": {},
   "outputs": [
    {
     "name": "stdout",
     "output_type": "stream",
     "text": [
      "(42, 9)\n"
     ]
    }
   ],
   "source": [
    "print(train_poly.shape)  # 변환된 훈련 데이터의 shape 출력"
   ]
  },
  {
   "cell_type": "code",
   "execution_count": 10,
   "id": "5ce2de8b",
   "metadata": {},
   "outputs": [
    {
     "data": {
      "text/plain": [
       "array(['x0', 'x1', 'x2', 'x0^2', 'x0 x1', 'x0 x2', 'x1^2', 'x1 x2',\n",
       "       'x2^2'], dtype=object)"
      ]
     },
     "execution_count": 10,
     "metadata": {},
     "output_type": "execute_result"
    }
   ],
   "source": [
    "poly.get_feature_names_out()  # 변환 후 특성 이름 출력"
   ]
  },
  {
   "cell_type": "code",
   "execution_count": 11,
   "id": "ce06efb8",
   "metadata": {},
   "outputs": [],
   "source": [
    "test_poly = poly.transform(test_input)  # 테스트 데이터 변환"
   ]
  },
  {
   "cell_type": "markdown",
   "id": "c6249267",
   "metadata": {},
   "source": [
    "## 다중 회귀 모델 훈련하기"
   ]
  },
  {
   "cell_type": "code",
   "execution_count": 12,
   "id": "4d7f8dd8",
   "metadata": {},
   "outputs": [
    {
     "name": "stdout",
     "output_type": "stream",
     "text": [
      "0.9903183436982125\n"
     ]
    }
   ],
   "source": [
    "from sklearn.linear_model import LinearRegression  # 선형 회귀 불러오기\n",
    "\n",
    "lr = LinearRegression()  # 선형 회귀 모델 생성\n",
    "lr.fit(train_poly, train_target)  # 모델 훈련\n",
    "print(lr.score(train_poly, train_target))  # 훈련 세트 결정계수(R^2) 출력"
   ]
  },
  {
   "cell_type": "code",
   "execution_count": 13,
   "id": "29e199fc",
   "metadata": {},
   "outputs": [
    {
     "name": "stdout",
     "output_type": "stream",
     "text": [
      "0.9714559911594155\n"
     ]
    }
   ],
   "source": [
    "print(lr.score(test_poly, test_target))  # 테스트 세트 결정계수(R^2) 출력"
   ]
  },
  {
   "cell_type": "code",
   "execution_count": 14,
   "id": "3a0878b8",
   "metadata": {},
   "outputs": [],
   "source": [
    "poly = PolynomialFeatures(degree=5, include_bias=False)  # 5차 다항 특성 변환기 생성\n",
    "\n",
    "poly.fit(train_input)  # 훈련 데이터로 변환기 학습\n",
    "train_poly = poly.transform(train_input)  # 훈련 데이터 변환\n",
    "test_poly = poly.transform(test_input)  # 테스트 데이터 변환"
   ]
  },
  {
   "cell_type": "code",
   "execution_count": 15,
   "id": "cdaf1113",
   "metadata": {},
   "outputs": [
    {
     "name": "stdout",
     "output_type": "stream",
     "text": [
      "(42, 55)\n"
     ]
    }
   ],
   "source": [
    "print(train_poly.shape)  # 5차 다항 특성 변환 후 훈련 데이터 shape 출력"
   ]
  },
  {
   "cell_type": "code",
   "execution_count": 16,
   "id": "a033c859",
   "metadata": {},
   "outputs": [
    {
     "name": "stdout",
     "output_type": "stream",
     "text": [
      "0.9999999999938143\n"
     ]
    }
   ],
   "source": [
    "lr.fit(train_poly, train_target)  # 5차 다항 특성으로 모델 재학습\n",
    "print(lr.score(train_poly, train_target))  # 훈련 세트 결정계수(R^2) 출력"
   ]
  },
  {
   "cell_type": "code",
   "execution_count": 17,
   "id": "3372a833",
   "metadata": {},
   "outputs": [
    {
     "name": "stdout",
     "output_type": "stream",
     "text": [
      "-144.40744532797535\n"
     ]
    }
   ],
   "source": [
    "print(lr.score(test_poly, test_target))  # 5차 다항 특성 테스트 세트 결정계수(R^2) 출력"
   ]
  },
  {
   "cell_type": "markdown",
   "id": "ee74faa9",
   "metadata": {},
   "source": [
    "## 규제"
   ]
  },
  {
   "cell_type": "code",
   "execution_count": 18,
   "id": "2df74465",
   "metadata": {},
   "outputs": [],
   "source": [
    "from sklearn.preprocessing import StandardScaler  # 표준화 도구 불러오기\n",
    "\n",
    "ss = StandardScaler()  # 표준화 객체 생성\n",
    "ss.fit(train_poly)  # 훈련 데이터로 표준화 학습\n",
    "train_scaled = ss.transform(train_poly)  # 훈련 데이터 표준화\n",
    "test_scaled = ss.transform(test_poly)  # 테스트 데이터 표준화"
   ]
  },
  {
   "cell_type": "markdown",
   "id": "a70c7517",
   "metadata": {},
   "source": [
    "## 릿지"
   ]
  },
  {
   "cell_type": "code",
   "execution_count": 19,
   "id": "e347b6b0",
   "metadata": {},
   "outputs": [
    {
     "name": "stdout",
     "output_type": "stream",
     "text": [
      "0.9896101671037343\n"
     ]
    }
   ],
   "source": [
    "from sklearn.linear_model import Ridge  # 릿지 회귀 불러오기\n",
    "\n",
    "ridge = Ridge()  # 릿지 회귀 모델 생성\n",
    "ridge.fit(train_scaled, train_target)  # 모델 훈련\n",
    "print(ridge.score(train_scaled, train_target))  # 훈련 세트 결정계수(R^2) 출력"
   ]
  },
  {
   "cell_type": "code",
   "execution_count": 20,
   "id": "0df8bb30",
   "metadata": {},
   "outputs": [
    {
     "name": "stdout",
     "output_type": "stream",
     "text": [
      "0.979069397761538\n"
     ]
    }
   ],
   "source": [
    "print(ridge.score(test_scaled, test_target))  # 테스트 세트 결정계수(R^2) 출력"
   ]
  },
  {
   "cell_type": "code",
   "execution_count": 21,
   "id": "e1ba8809",
   "metadata": {},
   "outputs": [],
   "source": [
    "import matplotlib.pyplot as plt  # 시각화 라이브러리 불러오기\n",
    "\n",
    "train_score = []  # 훈련 점수 저장 리스트\n",
    "test_score = []  # 테스트 점수 저장 리스트"
   ]
  },
  {
   "cell_type": "code",
   "execution_count": 22,
   "id": "42a8b8a4",
   "metadata": {},
   "outputs": [],
   "source": [
    "alpha_list = [0.001, 0.01, 0.1, 1, 10, 100]  # alpha 값 리스트\n",
    "for alpha in alpha_list:\n",
    "    # 릿지 모델을 만듭니다\n",
    "    ridge = Ridge(alpha=alpha)  # alpha 값으로 릿지 모델 생성\n",
    "    # 릿지 모델을 훈련합니다\n",
    "    ridge.fit(train_scaled, train_target)  # 모델 훈련\n",
    "    # 훈련 점수와 테스트 점수를 저장합니다\n",
    "    train_score.append(ridge.score(train_scaled, train_target))  # 훈련 점수 저장\n",
    "    test_score.append(ridge.score(test_scaled, test_target))  # 테스트 점수 저장"
   ]
  },
  {
   "cell_type": "code",
   "execution_count": 23,
   "id": "d47e1198",
   "metadata": {},
   "outputs": [
    {
     "data": {
      "image/png": "[encoded data removed]",
      "text/plain": [
       "<Figure size 640x480 with 1 Axes>"
      ]
     },
     "metadata": {},
     "output_type": "display_data"
    }
   ],
   "source": [
    "plt.plot(np.log10(alpha_list), train_score)  # alpha(log)별 훈련 점수 그래프\n",
    "plt.plot(np.log10(alpha_list), test_score)  # alpha(log)별 테스트 점수 그래프\n",
    "plt.xlabel('alpha')  # x축 레이블\n",
    "plt.ylabel('R^2')  # y축 레이블\n",
    "plt.show()  # 그래프 출력"
   ]
  },
  {
   "cell_type": "code",
   "execution_count": 24,
   "id": "6ce488ad",
   "metadata": {},
   "outputs": [
    {
     "name": "stdout",
     "output_type": "stream",
     "text": [
      "0.9903815817570368\n",
      "0.9827976465386863\n"
     ]
    }
   ],
   "source": [
    "ridge = Ridge(alpha=0.1)  # alpha=0.1로 릿지 모델 생성\n",
    "ridge.fit(train_scaled, train_target)  # 모델 훈련\n",
    "\n",
    "print(ridge.score(train_scaled, train_target))  # 훈련 세트 결정계수(R^2) 출력\n",
    "print(ridge.score(test_scaled, test_target))  # 테스트 세트 결정계수(R^2) 출력"
   ]
  },
  {
   "cell_type": "markdown",
   "id": "896402b4",
   "metadata": {},
   "source": [
    "## 라쏘"
   ]
  },
  {
   "cell_type": "code",
   "execution_count": 25,
   "id": "391781e8",
   "metadata": {},
   "outputs": [
    {
     "name": "stdout",
     "output_type": "stream",
     "text": [
      "0.989789897208096\n"
     ]
    }
   ],
   "source": [
    "from sklearn.linear_model import Lasso  # 라쏘 회귀 불러오기\n",
    "\n",
    "lasso = Lasso()  # 라쏘 회귀 모델 생성\n",
    "lasso.fit(train_scaled, train_target)  # 모델 훈련\n",
    "print(lasso.score(train_scaled, train_target))  # 훈련 세트 결정계수(R^2) 출력"
   ]
  },
  {
   "cell_type": "code",
   "execution_count": 26,
   "id": "4879067b",
   "metadata": {},
   "outputs": [
    {
     "name": "stdout",
     "output_type": "stream",
     "text": [
      "0.9800593698421884\n"
     ]
    }
   ],
   "source": [
    "print(lasso.score(test_scaled, test_target))  # 테스트 세트 결정계수(R^2) 출력"
   ]
  },
  {
   "cell_type": "code",
   "execution_count": 27,
   "id": "f72977a4",
   "metadata": {},
   "outputs": [
    {
     "name": "stderr",
     "output_type": "stream",
     "text": [
      "c:\\Users\\ryan9\\anaconda3\\envs\\ai_env\\lib\\site-packages\\sklearn\\linear_model\\_coordinate_descent.py:695: ConvergenceWarning: Objective did not converge. You might want to increase the number of iterations, check the scale of the features or consider increasing regularisation. Duality gap: 1.878e+04, tolerance: 5.183e+02\n",
      "  model = cd_fast.enet_coordinate_descent(\n",
      "c:\\Users\\ryan9\\anaconda3\\envs\\ai_env\\lib\\site-packages\\sklearn\\linear_model\\_coordinate_descent.py:695: ConvergenceWarning: Objective did not converge. You might want to increase the number of iterations, check the scale of the features or consider increasing regularisation. Duality gap: 1.297e+04, tolerance: 5.183e+02\n",
      "  model = cd_fast.enet_coordinate_descent(\n"
     ]
    },
    {
     "data": {
      "image/png": "[encoded data removed]",
      "text/plain": [
       "<Figure size 640x480 with 1 Axes>"
      ]
     },
     "metadata": {},
     "output_type": "display_data"
    }
   ],
   "source": [
    "train_score = []  # 훈련 점수 저장 리스트\n",
    "test_score = []  # 테스트 점수 저장 리스트\n",
    "\n",
    "alpha_list = [0.001, 0.01, 0.1, 1, 10, 100]  # alpha 값 리스트\n",
    "for alpha in alpha_list:\n",
    "    # 라쏘 모델을 만듭니다\n",
    "    lasso = Lasso(alpha=alpha, max_iter=10000)  # alpha 값으로 라쏘 모델 생성\n",
    "    # 라쏘 모델을 훈련합니다\n",
    "    lasso.fit(train_scaled, train_target)  # 모델 훈련\n",
    "    # 훈련 점수와 테스트 점수를 저장합니다\n",
    "    train_score.append(lasso.score(train_scaled, train_target))  # 훈련 점수 저장\n",
    "    test_score.append(lasso.score(test_scaled, test_target))  # 테스트 점수 저장\n",
    "\n",
    "plt.plot(np.log10(alpha_list), train_score)  # alpha(log)별 훈련 점수 그래프\n",
    "plt.plot(np.log10(alpha_list), test_score)  # alpha(log)별 테스트 점수 그래프\n",
    "plt.xlabel('alpha')  # x축 레이블\n",
    "plt.ylabel('R^2')  # y축 레이블\n",
    "plt.show()  # 그래프 출력"
   ]
  },
  {
   "cell_type": "code",
   "execution_count": 28,
   "id": "b17d9ebe",
   "metadata": {},
   "outputs": [
    {
     "name": "stdout",
     "output_type": "stream",
     "text": [
      "0.9888067471131867\n",
      "0.9824470598706695\n"
     ]
    }
   ],
   "source": [
    "lasso = Lasso(alpha=10)  # alpha=10으로 라쏘 모델 생성\n",
    "lasso.fit(train_scaled, train_target)  # 모델 훈련\n",
    "\n",
    "print(lasso.score(train_scaled, train_target))  # 훈련 세트 결정계수(R^2) 출력\n",
    "print(lasso.score(test_scaled, test_target))  # 테스트 세트 결정계수(R^2) 출력"
   ]
  },
  {
   "cell_type": "code",
   "execution_count": 29,
   "id": "1dd60a71",
   "metadata": {},
   "outputs": [
    {
     "name": "stdout",
     "output_type": "stream",
     "text": [
      "40\n"
     ]
    }
   ],
   "source": [
    "print(np.sum(lasso.coef_ == 0))  # 계수가 0인 특성 개수 출력"
   ]
  }
 ],
 "metadata": {
  "kernelspec": {
   "display_name": "ai_env",
   "language": "python",
   "name": "python3"
  },
  "language_info": {
   "codemirror_mode": {
    "name": "ipython",
    "version": 3
   },
   "file_extension": ".py",
   "mimetype": "text/x-python",
   "name": "python",
   "nbconvert_exporter": "python",
   "pygments_lexer": "ipython3",
   "version": "3.10.18"
  }
 },
 "nbformat": 4,
 "nbformat_minor": 5
}
