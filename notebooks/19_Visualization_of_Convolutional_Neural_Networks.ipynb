{
 "cells": [
  {
   "cell_type": "markdown",
   "id": "adb229f9",
   "metadata": {},
   "source": [
    "# 합성곱 신경망의 시각화"
   ]
  },
  {
   "cell_type": "code",
   "execution_count": 1,
   "id": "4835b8a2",
   "metadata": {},
   "outputs": [],
   "source": [
    "# 실행마다 동일한 결과를 얻기 위해 케라스에 랜덤 시드를 사용하고 텐서플로 연산을 결정적으로 만듭니다.\n",
    "import tensorflow as tf # TensorFlow 모듈 임포트\n",
    "\n",
    "tf.keras.utils.set_random_seed(42) # 케라스의 랜덤 시드 설정"
   ]
  }
 ],
 "metadata": {
  "kernelspec": {
   "display_name": "sesac_ai",
   "language": "python",
   "name": "python3"
  },
  "language_info": {
   "codemirror_mode": {
    "name": "ipython",
    "version": 3
   },
   "file_extension": ".py",
   "mimetype": "text/x-python",
   "name": "python",
   "nbconvert_exporter": "python",
   "pygments_lexer": "ipython3",
   "version": "3.11.13"
  }
 },
 "nbformat": 4,
 "nbformat_minor": 5
}
