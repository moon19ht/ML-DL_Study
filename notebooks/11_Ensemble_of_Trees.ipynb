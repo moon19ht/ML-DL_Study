{
 "cells": [
  {
   "cell_type": "markdown",
   "id": "3a509af7",
   "metadata": {},
   "source": [
    "# 트리의 앙상블\n",
    "## 랜덤 포레스트"
   ]
  },
  {
   "cell_type": "code",
   "execution_count": null,
   "id": "8ed08c2f",
   "metadata": {},
   "outputs": [],
   "source": [
    "import numpy as np # NumPy 라이브러리를 불러옵니다.\n",
    "import pandas as pd # 데이터 분석을 위한 pandas 라이브러리를 불러옵니다.\n",
    "from sklearn.model_selection import train_test_split # train_test_split 함수를 불러옵니다.\n",
    "\n",
    "wine = pd.read_csv('https://raw.githubusercontent.com/rickiepark/hg-mldl/master/wine.csv')\n",
    "\n",
    "data = wine[['alcohol', 'sugar', 'pH']].to_numpy() # 'alcohol', 'sugar', 'pH' 열을 NumPy 배열로 변환합니다.\n",
    "target = wine['class'].to_numpy() # 'class' 열을 NumPy 배열로 변환합니다.\n",
    "train_input, test_input, train_target, test_target = train_test_split(data, target, test_size=0.2, random_state=42) \n",
    "# 데이터를 훈련 세트와 테스트 세트로 나눕니다."
   ]
  },
  {
   "cell_type": "code",
   "execution_count": null,
   "id": "ced2cfa5",
   "metadata": {},
   "outputs": [
    {
     "name": "stdout",
     "output_type": "stream",
     "text": [
      "0.9973541965122431 0.8905151032797809\n"
     ]
    }
   ],
   "source": [
    "from sklearn.model_selection import cross_validate # 교차 검증을 위한 cross_validate 함수를 불러옵니다.\n",
    "from sklearn.ensemble import RandomForestClassifier # 랜덤 포레스트 분류기를 불러옵니다.\n",
    "\n",
    "rf = RandomForestClassifier(n_jobs=-1, random_state=42) # 랜덤 포레스트 분류기를 생성합니다.\n",
    "scores = cross_validate(rf, train_input, train_target, return_train_score=True, n_jobs=-1) # 교차 검증을 수행합니다.\n",
    "print(np.mean(scores['train_score']), np.mean(scores['test_score'])) # 훈련 세트와 테스트 세트의 평균 점수를 출력합니다."
   ]
  },
  {
   "cell_type": "code",
   "execution_count": null,
   "id": "c87b3caa",
   "metadata": {},
   "outputs": [
    {
     "name": "stdout",
     "output_type": "stream",
     "text": [
      "[0.23167441 0.50039841 0.26792718]\n"
     ]
    }
   ],
   "source": [
    "rf.fit(train_input, train_target) # 훈련 세트로 모델을 학습시킵니다.\n",
    "print(rf.feature_importances_) # 각 특성의 중요도를 출력합니다."
   ]
  },
  {
   "cell_type": "code",
   "execution_count": null,
   "id": "90603838",
   "metadata": {},
   "outputs": [
    {
     "name": "stdout",
     "output_type": "stream",
     "text": [
      "0.8934000384837406\n"
     ]
    }
   ],
   "source": [
    "rf = RandomForestClassifier(oob_score=True, n_jobs=-1, random_state=42) # oob_score=True로 설정하여 OOB 점수를 계산합니다.\n",
    "\n",
    "rf.fit(train_input, train_target) # 훈련 세트로 모델을 학습시킵니다.\n",
    "print(rf.oob_score_) # OOB 점수를 출력합니다."
   ]
  },
  {
   "cell_type": "markdown",
   "id": "f5903bfc",
   "metadata": {},
   "source": [
    "## 엑스트라 트리"
   ]
  },
  {
   "cell_type": "code",
   "execution_count": null,
   "id": "e3c88259",
   "metadata": {},
   "outputs": [
    {
     "name": "stdout",
     "output_type": "stream",
     "text": [
      "0.9974503966084433 0.8887848893166506\n"
     ]
    }
   ],
   "source": [
    "from sklearn.ensemble import ExtraTreesClassifier # Extra Trees 분류기를 불러옵니다.\n",
    "\n",
    "et = ExtraTreesClassifier(n_jobs=-1, random_state=42) # Extra Trees 분류기를 생성합니다.\n",
    "scores = cross_validate(et, train_input, train_target, return_train_score=True, n_jobs=-1) # 교차 검증을 수행합니다.\n",
    "\n",
    "print(np.mean(scores['train_score']), np.mean(scores['test_score'])) # 훈련 세트와 테스트 세트의 평균 점수를 출력합니다."
   ]
  },
  {
   "cell_type": "code",
   "execution_count": null,
   "id": "a448b500",
   "metadata": {},
   "outputs": [
    {
     "name": "stdout",
     "output_type": "stream",
     "text": [
      "[0.20183568 0.52242907 0.27573525]\n"
     ]
    }
   ],
   "source": [
    "et.fit(train_input, train_target) # 훈련 세트로 모델을 학습시킵니다.\n",
    "print(et.feature_importances_) # 각 특성의 중요도를 출력합니다."
   ]
  },
  {
   "cell_type": "markdown",
   "id": "3e813cc1",
   "metadata": {},
   "source": [
    "## 그레이디언트 부스팅"
   ]
  },
  {
   "cell_type": "code",
   "execution_count": null,
   "id": "d5728f90",
   "metadata": {},
   "outputs": [
    {
     "name": "stdout",
     "output_type": "stream",
     "text": [
      "0.8881086892152563 0.8720430147331015\n"
     ]
    }
   ],
   "source": [
    "from sklearn.ensemble import GradientBoostingClassifier # 그래디언트 부스팅 분류기를 불러옵니다.\n",
    "\n",
    "gb = GradientBoostingClassifier(random_state=42)    # 그래디언트 부스팅 분류기를 생성합니다.\n",
    "scores = cross_validate(gb, train_input, train_target, return_train_score=True, n_jobs=-1) # 교차 검증을 수행합니다.\n",
    "\n",
    "print(np.mean(scores['train_score']), np.mean(scores['test_score'])) # 훈련 세트와 테스트 세트의 평균 점수를 출력합니다."
   ]
  },
  {
   "cell_type": "code",
   "execution_count": null,
   "id": "8e66a259",
   "metadata": {},
   "outputs": [
    {
     "name": "stdout",
     "output_type": "stream",
     "text": [
      "0.9464595437171814 0.8780082549788999\n"
     ]
    }
   ],
   "source": [
    "from sklearn.ensemble import GradientBoostingClassifier # 그래디언트 부스팅 분류기를 불러옵니다.\n",
    "\n",
    "gb = GradientBoostingClassifier(n_estimators=500, learning_rate=0.2, random_state=42) # 그래디언트 부스팅 분류기를 생성합니다.\n",
    "scores = cross_validate(gb, train_input, train_target, return_train_score=True, n_jobs=-1) # 교차 검증을 수행합니다.\n",
    "\n",
    "print(np.mean(scores['train_score']), np.mean(scores['test_score'])) # 훈련 세트와 테스트 세트의 평균 점수를 출력합니다."
   ]
  },
  {
   "cell_type": "code",
   "execution_count": null,
   "id": "2e13b76a",
   "metadata": {},
   "outputs": [
    {
     "name": "stdout",
     "output_type": "stream",
     "text": [
      "[0.15882696 0.6799705  0.16120254]\n"
     ]
    }
   ],
   "source": [
    "gb.fit(train_input, train_target) # 훈련 세트로 모델을 학습시킵니다.\n",
    "print(gb.feature_importances_)  # 각 특성의 중요도를 출력합니다."
   ]
  },
  {
   "cell_type": "markdown",
   "id": "079306ab",
   "metadata": {},
   "source": [
    "## 히스토그램 기반 부스팅"
   ]
  },
  {
   "cell_type": "code",
   "execution_count": null,
   "id": "ac7f51ad",
   "metadata": {},
   "outputs": [
    {
     "name": "stdout",
     "output_type": "stream",
     "text": [
      "0.9321723946453317 0.8801241948619236\n"
     ]
    }
   ],
   "source": [
    "# 사이킷런 1.0 버전 아래에서는 다음 라인의 주석을 해제하고 실행하세요.\n",
    "# from sklearn.experimental import enable_hist_gradient_boosting\n",
    "from sklearn.ensemble import HistGradientBoostingClassifier # 히스토그램 기반 그래디언트 부스팅 분류기를 불러옵니다.\n",
    "\n",
    "hgb = HistGradientBoostingClassifier(random_state=42) # 히스토그램 기반 그래디언트 부스팅 분류기를 생성합니다.\n",
    "scores = cross_validate(hgb, train_input, train_target, return_train_score=True, n_jobs=-1) # 교차 검증을 수행합니다.\n",
    "\n",
    "print(np.mean(scores['train_score']), np.mean(scores['test_score'])) # 훈련 세트와 테스트 세트의 평균 점수를 출력합니다."
   ]
  },
  {
   "cell_type": "code",
   "execution_count": null,
   "id": "6ab887c8",
   "metadata": {},
   "outputs": [
    {
     "name": "stdout",
     "output_type": "stream",
     "text": [
      "[0.08876275 0.23438522 0.08027708]\n"
     ]
    }
   ],
   "source": [
    "from sklearn.inspection import permutation_importance # 순열 중요도를 계산하기 위한 함수를 불러옵니다.\n",
    "\n",
    "hgb.fit(train_input, train_target) # 훈련 세트로 모델을 학습시킵니다.\n",
    "result = permutation_importance(hgb, train_input, train_target, n_repeats=10, \n",
    "                                random_state=42, n_jobs=-1) # 순열 중요도를 계산합니다.\n",
    "print(result.importances_mean) # 각 특성의 순열 중요도를 출력합니다."
   ]
  },
  {
   "cell_type": "code",
   "execution_count": null,
   "id": "e6cb2acb",
   "metadata": {},
   "outputs": [
    {
     "name": "stdout",
     "output_type": "stream",
     "text": [
      "[0.05969231 0.20238462 0.049     ]\n"
     ]
    }
   ],
   "source": [
    "result = permutation_importance(hgb, test_input, test_target, n_repeats=10,\n",
    "                                random_state=42, n_jobs=-1) # 테스트 세트에 대한 순열 중요도를 계산합니다.\n",
    "print(result.importances_mean) # 테스트 세트에 대한 각 특성의 순열 중요도를 출력합니다."
   ]
  },
  {
   "cell_type": "code",
   "execution_count": null,
   "id": "99c04940",
   "metadata": {},
   "outputs": [
    {
     "data": {
      "text/plain": [
       "0.8723076923076923"
      ]
     },
     "execution_count": 16,
     "metadata": {},
     "output_type": "execute_result"
    }
   ],
   "source": [
    "hgb.score(test_input, test_target) # 테스트 세트에 대한 모델의 점수를 출력합니다."
   ]
  },
  {
   "cell_type": "markdown",
   "id": "4fd0b9fc",
   "metadata": {},
   "source": [
    "## XGBoost"
   ]
  },
  {
   "cell_type": "code",
   "execution_count": null,
   "id": "c22778a7",
   "metadata": {},
   "outputs": [
    {
     "name": "stdout",
     "output_type": "stream",
     "text": [
      "0.9567059184812372 0.8783915747390243\n"
     ]
    }
   ],
   "source": [
    "from xgboost import XGBClassifier # XGBoost 분류기를 불러옵니다.\n",
    "\n",
    "xgb = XGBClassifier(tree_method='hist', random_state=42) # XGBoost 분류기를 생성합니다.\n",
    "scores = cross_validate(xgb, train_input, train_target, return_train_score=True, n_jobs=-1) # 교차 검증을 수행합니다.\n",
    "\n",
    "print(np.mean(scores['train_score']), np.mean(scores['test_score'])) # 훈련 세트와 테스트 세트의 평균 점수를 출력합니다."
   ]
  },
  {
   "cell_type": "markdown",
   "id": "f965c03a",
   "metadata": {},
   "source": [
    "## LightGBM"
   ]
  },
  {
   "cell_type": "code",
   "execution_count": null,
   "id": "3d8c32e8",
   "metadata": {},
   "outputs": [
    {
     "name": "stdout",
     "output_type": "stream",
     "text": [
      "0.9973541965122431 0.8905151032797809\n"
     ]
    }
   ],
   "source": [
    "# LightGBM을 사용하지 않고, 반대로 RandomForestClassifier를 사용하여 동일한 방식으로 적용합니다.\n",
    "from sklearn.ensemble import RandomForestClassifier # 랜덤 포레스트 분류기를 불러옵니다.\n",
    "\n",
    "rf = RandomForestClassifier(random_state=42) # 랜덤 포레스트 분류기를 생성합니다.\n",
    "scores = cross_validate(rf, train_input, train_target, return_train_score=True, n_jobs=-1) # 교차 검증을 수행합니다.\n",
    "\n",
    "print(np.mean(scores['train_score']), np.mean(scores['test_score'])) # 훈련 세트와 테스트 세트의 평균 점수를 출력합니다."
   ]
  }
 ],
 "metadata": {
  "kernelspec": {
   "display_name": "sesac_ai",
   "language": "python",
   "name": "python3"
  },
  "language_info": {
   "codemirror_mode": {
    "name": "ipython",
    "version": 3
   },
   "file_extension": ".py",
   "mimetype": "text/x-python",
   "name": "python",
   "nbconvert_exporter": "python",
   "pygments_lexer": "ipython3",
   "version": "3.11.13"
  }
 },
 "nbformat": 4,
 "nbformat_minor": 5
}
