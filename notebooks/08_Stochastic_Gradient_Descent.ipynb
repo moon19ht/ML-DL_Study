{
 "cells": [
  {
   "cell_type": "markdown",
   "id": "da5aaa01",
   "metadata": {},
   "source": [
    "# 확률적 경사 하강법\n",
    "\n",
    "## SGDClassifier"
   ]
  },
  {
   "cell_type": "code",
   "execution_count": null,
   "id": "f02184e6",
   "metadata": {},
   "outputs": [],
   "source": [
    "import pandas as pd  # pandas 라이브러리 불러오기\n",
    "\n",
    "fish = pd.read_csv('https://raw.githubusercontent.com/rickiepark/hg-mldl/master/fish.csv')  # 데이터셋 읽기"
   ]
  },
  {
   "cell_type": "code",
   "execution_count": null,
   "id": "b885ba55",
   "metadata": {},
   "outputs": [],
   "source": [
    "fish_input = fish[['Weight', 'Length', 'Diagonal', 'Height', 'Width']].to_numpy()  # 입력 데이터 배열로 변환\n",
    "fish_target = fish['Species'].to_numpy()  # 타깃 데이터 배열로 변환"
   ]
  },
  {
   "cell_type": "code",
   "execution_count": null,
   "id": "dcea48e0",
   "metadata": {},
   "outputs": [],
   "source": [
    "from sklearn.model_selection import train_test_split  # 데이터 분할 함수 불러오기\n",
    "\n",
    "train_input, test_input, train_target, test_target = train_test_split(\n",
    "    fish_input, fish_target, stratify=fish_target, random_state=42  # 타깃 비율 유지하며 분할\n",
    ")"
   ]
  },
  {
   "cell_type": "code",
   "execution_count": 5,
   "id": "442a4e54",
   "metadata": {},
   "outputs": [],
   "source": [
    "from sklearn.preprocessing import StandardScaler  # 표준화 함수 불러오기\n",
    "\n",
    "ss = StandardScaler()  # 표준화 객체 생성\n",
    "ss.fit(train_input)  # 훈련 데이터로 표준화 파라미터 계산\n",
    "train_scaled = ss.transform(train_input)  # 훈련 데이터 표준화\n",
    "test_scaled = ss.transform(test_input)  # 테스트 데이터 표준화"
   ]
  }
 ],
 "metadata": {
  "kernelspec": {
   "display_name": "ai_env",
   "language": "python",
   "name": "python3"
  },
  "language_info": {
   "codemirror_mode": {
    "name": "ipython",
    "version": 3
   },
   "file_extension": ".py",
   "mimetype": "text/x-python",
   "name": "python",
   "nbconvert_exporter": "python",
   "pygments_lexer": "ipython3",
   "version": "3.10.18"
  }
 },
 "nbformat": 4,
 "nbformat_minor": 5
}
