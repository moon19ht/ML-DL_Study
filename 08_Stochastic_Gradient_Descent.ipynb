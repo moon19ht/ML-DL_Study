{
 "cells": [
  {
   "cell_type": "markdown",
   "id": "da5aaa01",
   "metadata": {},
   "source": [
    "# 확률적 경사 하강법\n",
    "\n",
    "## SGDClassifier"
   ]
  },
  {
   "cell_type": "code",
   "execution_count": 4,
   "id": "f02184e6",
   "metadata": {},
   "outputs": [],
   "source": [
    "import pandas as pd  # pandas 라이브러리 불러오기\n",
    "\n",
    "fish = pd.read_csv('https://raw.githubusercontent.com/rickiepark/hg-mldl/master/fish.csv')  # 데이터셋 읽기"
   ]
  },
  {
   "cell_type": "code",
   "execution_count": 5,
   "id": "b885ba55",
   "metadata": {},
   "outputs": [],
   "source": [
    "fish_input = fish[['Weight', 'Length', 'Diagonal', 'Height', 'Width']].to_numpy()  # 입력 데이터 배열로 변환\n",
    "fish_target = fish['Species'].to_numpy()  # 타깃 데이터 배열로 변환"
   ]
  },
  {
   "cell_type": "code",
   "execution_count": 16,
   "id": "dcea48e0",
   "metadata": {},
   "outputs": [],
   "source": [
    "from sklearn.model_selection import train_test_split  # 데이터 분할 함수 불러오기\n",
    "\n",
    "train_input, test_input, train_target, test_target = train_test_split(\n",
    "    fish_input, fish_target, random_state=42  # 타깃 비율 유지하며 분할\n",
    ")"
   ]
  },
  {
   "cell_type": "code",
   "execution_count": 19,
   "id": "442a4e54",
   "metadata": {},
   "outputs": [],
   "source": [
    "from sklearn.preprocessing import StandardScaler  # 표준화 함수 불러오기\n",
    "\n",
    "ss = StandardScaler()  # 표준화 객체 생성\n",
    "ss.fit(train_input)  # 훈련 데이터로 표준화 파라미터 계산\n",
    "train_scaled = ss.transform(train_input)  # 훈련 데이터 표준화\n",
    "test_scaled = ss.transform(test_input)  # 테스트 데이터 표준화"
   ]
  },
  {
   "cell_type": "code",
   "execution_count": 20,
   "id": "ae83588c",
   "metadata": {},
   "outputs": [],
   "source": [
    "from sklearn.linear_model import SGDClassifier"
   ]
  },
  {
   "cell_type": "code",
   "execution_count": 18,
   "id": "64433c6e",
   "metadata": {},
   "outputs": [
    {
     "name": "stdout",
     "output_type": "stream",
     "text": [
      "0.23529411764705882\n",
      "0.225\n"
     ]
    },
    {
     "name": "stderr",
     "output_type": "stream",
     "text": [
      "c:\\Users\\ryan9\\anaconda3\\envs\\ai_env\\lib\\site-packages\\sklearn\\linear_model\\_stochastic_gradient.py:738: ConvergenceWarning: Maximum number of iteration reached before convergence. Consider increasing max_iter to improve the fit.\n",
      "  warnings.warn(\n"
     ]
    }
   ],
   "source": [
    "sc = SGDClassifier(loss='log_loss', max_iter=10, random_state=42) # 로지스틱 손실 함수 사용, 최대 10번 반복, 랜덤 시드 42\n",
    "sc.fit(train_scaled, train_target) # 훈련 데이터로 모델 훈련\n",
    "\n",
    "print(sc.score(train_scaled, train_target)) # 훈련 데이터 점수\n",
    "print(sc.score(test_scaled, test_target)) # 테스트 데이터 점수"
   ]
  },
  {
   "cell_type": "code",
   "execution_count": 21,
   "id": "0f6bdbed",
   "metadata": {},
   "outputs": [
    {
     "name": "stdout",
     "output_type": "stream",
     "text": [
      "0.6218487394957983\n",
      "0.675\n"
     ]
    }
   ],
   "source": [
    "sc.partial_fit(train_scaled, train_target) # 훈련 데이터로 모델 훈련\n",
    "\n",
    "print(sc.score(train_scaled, train_target)) # 훈련 데이터 점수\n",
    "print(sc.score(test_scaled, test_target)) # 테스트 데이터 점수"
   ]
  },
  {
   "cell_type": "markdown",
   "id": "52d7bd52",
   "metadata": {},
   "source": [
    "## 에포크와 과대/과소 적합"
   ]
  },
  {
   "cell_type": "code",
   "execution_count": 22,
   "id": "e09e9bec",
   "metadata": {},
   "outputs": [],
   "source": [
    "import numpy as np  \n",
    "\n",
    "sc = SGDClassifier(loss='log_loss', random_state=42)    # 로지스틱 손실 함수 사용\n",
    "\n",
    "train_score = []    # 훈련 점수\n",
    "test_score = []\n",
    "\n",
    "classes = np.unique(train_target)    # 클래스 레이블 추출"
   ]
  },
  {
   "cell_type": "code",
   "execution_count": 23,
   "id": "5027b4bb",
   "metadata": {},
   "outputs": [],
   "source": [
    "for _ in range(0, 300):\n",
    "    sc.partial_fit(train_scaled, train_target, classes=classes)     # 훈련 데이터로 모델 훈련\n",
    "    \n",
    "    train_score.append(sc.score(train_scaled, train_target))        # 훈련 점수\n",
    "    test_score.append(sc.score(test_scaled, test_target))           # 테스트 점수"
   ]
  },
  {
   "cell_type": "code",
   "execution_count": 24,
   "id": "3323efb1",
   "metadata": {},
   "outputs": [
    {
     "data": {
      "image/png": "[encoded data removed]",
      "text/plain": [
       "<Figure size 640x480 with 1 Axes>"
      ]
     },
     "metadata": {},
     "output_type": "display_data"
    }
   ],
   "source": [
    "import matplotlib.pyplot as plt\n",
    "\n",
    "plt.plot(train_score)     # 훈련 점수 그래프\n",
    "plt.plot(test_score)      # 테스트 점수 그래프\n",
    "plt.xlabel('epoch')      # x축 레이블\n",
    "plt.ylabel('accuracy')   # y축 레이블\n",
    "plt.show()               # 그래프 표시"
   ]
  },
  {
   "cell_type": "code",
   "execution_count": 25,
   "id": "ba40217d",
   "metadata": {},
   "outputs": [
    {
     "name": "stdout",
     "output_type": "stream",
     "text": [
      "0.957983193277311\n",
      "0.925\n"
     ]
    }
   ],
   "source": [
    "sc = SGDClassifier(loss='log_loss', max_iter=100, tol=None, random_state=42) # 손실 함수: 로지스틱 손실 함수, 최대 반복 횟수: 100, 조기 종료 없음, 랜덤 시드: 42\n",
    "sc.fit(train_scaled, train_target)\n",
    "\n",
    "print(sc.score(train_scaled, train_target))    # 훈련 데이터 점수\n",
    "print(sc.score(test_scaled, test_target))      # 테스트 데이터 점수"
   ]
  },
  {
   "cell_type": "code",
   "execution_count": 26,
   "id": "7d613150",
   "metadata": {},
   "outputs": [
    {
     "name": "stdout",
     "output_type": "stream",
     "text": [
      "0.9495798319327731\n",
      "0.925\n"
     ]
    }
   ],
   "source": [
    "sc = SGDClassifier(loss='hinge', max_iter=100, tol=None, random_state=42) # 손실 함수: 힌지 손실 함수, 최대 반복 횟수: 100, 조기 종료 없음, 랜덤 시드: 42\n",
    "sc.fit(train_scaled, train_target) # 훈련 데이터로 모델 훈련\n",
    "\n",
    "print(sc.score(train_scaled, train_target)) # 훈련 데이터 점수\n",
    "print(sc.score(test_scaled, test_target)) # 테스트 데이터 점수"
   ]
  }
 ],
 "metadata": {
  "kernelspec": {
   "display_name": "ai_env",
   "language": "python",
   "name": "python3"
  },
  "language_info": {
   "codemirror_mode": {
    "name": "ipython",
    "version": 3
   },
   "file_extension": ".py",
   "mimetype": "text/x-python",
   "name": "python",
   "nbconvert_exporter": "python",
   "pygments_lexer": "ipython3",
   "version": "3.10.18"
  }
 },
 "nbformat": 4,
 "nbformat_minor": 5
}
